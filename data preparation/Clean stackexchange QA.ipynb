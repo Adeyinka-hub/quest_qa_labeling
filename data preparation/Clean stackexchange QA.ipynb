{
  "cells": [
    {
      "cell_type": "code",
      "execution_count": 1,
      "metadata": {
        "pycharm": {}
      },
      "outputs": [],
      "source": [
        "import pandas as pd\n",
        "import numpy as np\n",
        "from pathlib import Path\n",
        "import os\n",
        "import re\n",
        "\n",
        "from tqdm import tqdm_notebook\n",
        "from tqdm.auto import tqdm\n",
        "tqdm.pandas()\n",
        "from matplotlib import pyplot as plt\n",
        "import seaborn as sns\n",
        "\n",
        "%matplotlib inline"
      ]
    },
    {
      "cell_type": "code",
      "execution_count": 2,
      "metadata": {
        "pycharm": {}
      },
      "outputs": [],
      "source": "dumps \u003d Path(\u0027/storage/monty/quest_challenge/stackexchange_parsed/\u0027).glob(\u0027*\u0027)\ndumps \u003d [path for path in dumps if path.joinpath(\u0027questions.tsv\u0027).exists()]"
    },
    {
      "cell_type": "code",
      "execution_count": 5,
      "metadata": {
        "pycharm": {}
      },
      "outputs": [],
      "source": "# dump \u003d dumps[1]\n# questions \u003d pd.read_csv(dump / \u0027questions.tsv\u0027, sep\u003d\u0027\\t\u0027)\n# answers \u003d pd.read_csv(dump / \u0027answers.tsv\u0027, sep\u003d\u0027\\t\u0027)"
    },
    {
      "cell_type": "code",
      "execution_count": 6,
      "metadata": {
        "pycharm": {}
      },
      "outputs": [
        {
          "data": {
            "application/vnd.jupyter.widget-view+json": {
              "model_id": "5f5b209032aa4efd951b2682ca6777cc",
              "version_major": 2,
              "version_minor": 0
            },
            "text/plain": [
              "HBox(children\u003d(IntProgress(value\u003d0, max\u003d176), HTML(value\u003d\u0027\u0027)))"
            ]
          },
          "metadata": {},
          "output_type": "display_data"
        },
        {
          "name": "stdout",
          "output_type": "stream",
          "text": [
            "\n"
          ]
        }
      ],
      "source": [
        "all_questions, all_answers \u003d [], []\n",
        "offset \u003d 0\n",
        "\n",
        "for dump in tqdm_notebook(dumps):\n",
        "    questions \u003d pd.read_csv(dump / \u0027questions.tsv\u0027, sep\u003d\u0027\\t\u0027)\n",
        "    answers \u003d pd.read_csv(dump / \u0027answers.tsv\u0027, sep\u003d\u0027\\t\u0027)\n",
        "    \n",
        "    questions[\u0027host\u0027] \u003d answers[\u0027host\u0027] \u003d dump.name\n",
        "       \n",
        "    accepted_answers \u003d questions[\u0027AcceptedAnswerId\u0027].dropna().astype(int)\n",
        "    answers[\u0027is_answer_accepted\u0027] \u003d answers[\u0027Id\u0027].astype(int).isin(accepted_answers)\n",
        "    \n",
        "    questions[\u0027Id\u0027] \u003d questions[\u0027Id\u0027].astype(int) + offset\n",
        "    answers[\u0027Id\u0027] \u003d answers[\u0027Id\u0027].astype(int) + offset\n",
        "    answers[\u0027ParentId\u0027] \u003d answers[\u0027ParentId\u0027].astype(int) + offset\n",
        "\n",
        "    \n",
        "    all_questions.append(questions)\n",
        "    all_answers.append(answers)\n",
        "    \n",
        "    offset \u003d max(questions[\u0027Id\u0027].max(), answers[\u0027Id\u0027].max()) + 1"
      ]
    },
    {
      "cell_type": "code",
      "execution_count": 7,
      "metadata": {
        "pycharm": {}
      },
      "outputs": [
        {
          "data": {
            "text/plain": [
              "176"
            ]
          },
          "execution_count": 7,
          "metadata": {},
          "output_type": "execute_result"
        }
      ],
      "source": [
        "len(all_answers)"
      ]
    },
    {
      "cell_type": "code",
      "execution_count": 8,
      "metadata": {
        "pycharm": {}
      },
      "outputs": [],
      "source": [
        "all_questions \u003d pd.concat(all_questions, sort\u003dFalse).reset_index()\n",
        "all_answers \u003d pd.concat(all_answers, sort\u003dFalse).reset_index()"
      ]
    },
    {
      "cell_type": "code",
      "execution_count": 9,
      "metadata": {
        "pycharm": {}
      },
      "outputs": [
        {
          "data": {
            "text/plain": [
              "((6476116, 17), (9806737, 13))"
            ]
          },
          "execution_count": 9,
          "metadata": {},
          "output_type": "execute_result"
        }
      ],
      "source": [
        "all_questions.shape, all_answers.shape"
      ]
    },
    {
      "cell_type": "code",
      "execution_count": 10,
      "metadata": {
        "pycharm": {}
      },
      "outputs": [
        {
          "data": {
            "text/plain": [
              "0.2899348003259984"
            ]
          },
          "execution_count": 10,
          "metadata": {},
          "output_type": "execute_result"
        }
      ],
      "source": [
        "answers[\u0027is_answer_accepted\u0027].mean()"
      ]
    },
    {
      "cell_type": "code",
      "execution_count": 11,
      "metadata": {
        "pycharm": {}
      },
      "outputs": [
        {
          "data": {
            "application/vnd.jupyter.widget-view+json": {
              "model_id": "0c797573fb544c83847a4c4af890db1b",
              "version_major": 2,
              "version_minor": 0
            },
            "text/plain": [
              "HBox(children\u003d(IntProgress(value\u003d0, max\u003d6476116), HTML(value\u003d\u0027\u0027)))"
            ]
          },
          "metadata": {},
          "output_type": "display_data"
        },
        {
          "name": "stdout",
          "output_type": "stream",
          "text": [
            "\n"
          ]
        },
        {
          "data": {
            "application/vnd.jupyter.widget-view+json": {
              "model_id": "8a1e2237725e4b97ac051d98ed67acc9",
              "version_major": 2,
              "version_minor": 0
            },
            "text/plain": [
              "HBox(children\u003d(IntProgress(value\u003d0, max\u003d6476116), HTML(value\u003d\u0027\u0027)))"
            ]
          },
          "metadata": {},
          "output_type": "display_data"
        },
        {
          "name": "stdout",
          "output_type": "stream",
          "text": [
            "\n"
          ]
        }
      ],
      "source": [
        "html_pattern \u003d re.compile(r\u0027\u003c.*?\u003e\u0027)\n",
        "\n",
        "question_body \u003d all_questions[\u0027Body\u0027].astype(str).progress_apply(lambda s: html_pattern.sub(\u0027\u0027, s))\n",
        "question_title \u003d all_questions[\u0027Title\u0027].astype(str).progress_apply(lambda s: html_pattern.sub(\u0027\u0027, s))"
      ]
    },
    {
      "cell_type": "code",
      "execution_count": 12,
      "metadata": {
        "pycharm": {}
      },
      "outputs": [
        {
          "data": {
            "application/vnd.jupyter.widget-view+json": {
              "model_id": "a99896b8cf544365817e6bfaa64e7805",
              "version_major": 2,
              "version_minor": 0
            },
            "text/plain": [
              "HBox(children\u003d(IntProgress(value\u003d0, max\u003d6476116), HTML(value\u003d\u0027\u0027)))"
            ]
          },
          "metadata": {},
          "output_type": "display_data"
        },
        {
          "name": "stdout",
          "output_type": "stream",
          "text": [
            "\n"
          ]
        }
      ],
      "source": [
        "question_body_cleaned \u003d question_body.progress_apply(lambda s: s.replace(\u0027\\n\u0027,\u0027\u0027)).values"
      ]
    },
    {
      "cell_type": "code",
      "execution_count": 13,
      "metadata": {
        "pycharm": {}
      },
      "outputs": [],
      "source": [
        "n_jobs \u003d 32\n",
        "chunksize \u003d 100000\n",
        "n_chunks \u003d int(len(question_body_cleaned) / chunksize) + 1"
      ]
    },
    {
      "cell_type": "code",
      "execution_count": 14,
      "metadata": {
        "scrolled": true,
        "pycharm": {}
      },
      "outputs": [
        {
          "data": {
            "application/vnd.jupyter.widget-view+json": {
              "model_id": "85b7c0fc17fe4edaa272a4b89f367e7e",
              "version_major": 2,
              "version_minor": 0
            },
            "text/plain": [
              "HBox(children\u003d(IntProgress(value\u003d0, max\u003d65), HTML(value\u003d\u0027\u0027)))"
            ]
          },
          "metadata": {},
          "output_type": "display_data"
        },
        {
          "name": "stderr",
          "output_type": "stream",
          "text": [
            "\n",
            "\n",
            "\n",
            "\n",
            "\n",
            "\n",
            "\n",
            "\n",
            "\n",
            "\n",
            "\n",
            "\n",
            "\n",
            "\n",
            "\n",
            "\n",
            "\n",
            "\n",
            "\n",
            "\n",
            "\n",
            "\n",
            "\n",
            "\n",
            "\n",
            "\n",
            "\n",
            "\n",
            "\n",
            "\n",
            "\n",
            "\n",
            "\n",
            "\n",
            "\n",
            "\n",
            "\n",
            "\n",
            "\n",
            "\n",
            "\n",
            "\n",
            "\n",
            "\n",
            "\n",
            "\n",
            "\n",
            "\n",
            "\n",
            "\n",
            "\n",
            "\n",
            "\n",
            "\n",
            "\n",
            "\n",
            "\n",
            "\n",
            "\n",
            "\n",
            "\n",
            "\n",
            "\n",
            "\n",
            "\n"
          ]
        },
        {
          "name": "stdout",
          "output_type": "stream",
          "text": [
            "\n"
          ]
        }
      ],
      "source": [
        "# %%time\n",
        "import fasttext\n",
        "from multiprocessing import Pool\n",
        "\n",
        "def predict_lang(sentences):\n",
        "    model \u003d fasttext.load_model(\u0027lid.176.bin\u0027)\n",
        "    return model.predict(list(sentences), k\u003d1)[0]\n",
        "\n",
        "with Pool(n_jobs) as pool:\n",
        "    question_lang \u003d list(\n",
        "        tqdm_notebook(\n",
        "            pool.imap(predict_lang, [question_body_cleaned[i*chunksize : (i+1)*chunksize] for i in range(n_chunks)]),\n",
        "            total \u003d n_chunks\n",
        "        )\n",
        "    )\n",
        "    \n",
        "question_lang \u003d list(map(np.array,question_lang))\n",
        "question_lang \u003d np.vstack(question_lang).flatten()"
      ]
    },
    {
      "cell_type": "code",
      "execution_count": 15,
      "metadata": {
        "pycharm": {}
      },
      "outputs": [],
      "source": [
        "question_lang \u003d np.array([l[-2:] for l in question_lang])"
      ]
    },
    {
      "cell_type": "code",
      "execution_count": 46,
      "metadata": {
        "pycharm": {}
      },
      "outputs": [
        {
          "data": {
            "text/plain": [
              "\u003cmatplotlib.axes._subplots.AxesSubplot at 0x7fdaa1ca9fd0\u003e"
            ]
          },
          "execution_count": 46,
          "metadata": {},
          "output_type": "execute_result"
        },
        {
          "data": {
            "image/png": "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\u003d\n",
            "text/plain": [
              "\u003cFigure size 432x720 with 1 Axes\u003e"
            ]
          },
          "metadata": {
            "needs_background": "light"
          },
          "output_type": "display_data"
        }
      ],
      "source": [
        "plt.figure(figsize\u003d(6,10))\n",
        "sns.countplot(y\u003dquestion_lang, orient\u003d\u0027h\u0027)"
      ]
    },
    {
      "cell_type": "code",
      "execution_count": 16,
      "metadata": {
        "pycharm": {}
      },
      "outputs": [],
      "source": [
        "question_ans_agg_features \u003d pd.concat([\n",
        "    all_answers.groupby(\u0027ParentId\u0027)[\u0027Score\u0027].max().rename(\u0027answers_max_score\u0027),\n",
        "    all_answers.groupby(\u0027ParentId\u0027)[\u0027Score\u0027].mean().rename(\u0027answers_mean_score\u0027)\n",
        "], axis\u003d1, sort\u003dFalse)"
      ]
    },
    {
      "cell_type": "code",
      "execution_count": 17,
      "metadata": {
        "pycharm": {}
      },
      "outputs": [],
      "source": [
        "question_features \u003d all_questions[[\u0027Id\u0027,\u0027host\u0027,\u0027username\u0027,\u0027Score\u0027,\u0027ViewCount\u0027,\u0027FavoriteCount\u0027,\u0027AnswerCount\u0027]]\n",
        "question_features \u003d question_features.merge(question_ans_agg_features, left_on\u003d\u0027Id\u0027, right_on\u003d\u0027ParentId\u0027, how\u003d\u0027left\u0027)\n",
        "question_features \u003d pd.concat([question_features, question_title, question_body], axis\u003d1, sort\u003dFalse)\n",
        "\n",
        "question_features \u003d question_features.iloc[(question_lang\u003d\u003d\u0027en\u0027) \u0026 (all_questions[\u0027AnswerCount\u0027].ravel() !\u003d 0)]"
      ]
    },
    {
      "cell_type": "code",
      "execution_count": 18,
      "metadata": {
        "scrolled": true,
        "pycharm": {}
      },
      "outputs": [
        {
          "name": "stdout",
          "output_type": "stream",
          "text": [
            "Index([\u0027Id\u0027, \u0027host\u0027, \u0027username\u0027, \u0027Score\u0027, \u0027ViewCount\u0027, \u0027FavoriteCount\u0027,\n",
            "       \u0027AnswerCount\u0027, \u0027answers_max_score\u0027, \u0027answers_mean_score\u0027, \u0027Title\u0027,\n",
            "       \u0027Body\u0027],\n",
            "      dtype\u003d\u0027object\u0027)\n"
          ]
        }
      ],
      "source": [
        "print(question_features.columns)"
      ]
    },
    {
      "cell_type": "code",
      "execution_count": 19,
      "metadata": {
        "pycharm": {}
      },
      "outputs": [],
      "source": [
        "question_features.columns \u003d [\u0027id\u0027, \u0027host\u0027, \u0027question_username\u0027, \u0027question_score\u0027, \u0027question_views\u0027, \u0027question_favs\u0027,\n",
        "       \u0027answers_count\u0027, \u0027answers_max_score\u0027, \u0027answers_mean_score\u0027, \u0027title\u0027, \u0027body\u0027]"
      ]
    },
    {
      "cell_type": "code",
      "execution_count": null,
      "metadata": {
        "pycharm": {}
      },
      "outputs": [],
      "source": []
    },
    {
      "cell_type": "code",
      "execution_count": 128,
      "metadata": {
        "pycharm": {}
      },
      "outputs": [],
      "source": [
        "def select_answers(all_answers, max_answers_per_question \u003d2):\n",
        "    answer_ids \u003d all_answers[[\u0027Id\u0027,\u0027ParentId\u0027,\u0027is_answer_accepted\u0027]]\n",
        "\n",
        "    selected_answers \u003d answer_ids[\u0027Id\u0027][answer_ids[\u0027is_answer_accepted\u0027]].tolist()\n",
        "    n_additional \u003d max_answers_per_question - (answer_ids.groupby(\u0027ParentId\u0027)[\u0027is_answer_accepted\u0027].sum() \u003e 0).astype(int)\n",
        "\n",
        "    additional_answers \u003d answer_ids.merge(n_additional.rename(\u0027n_additional\u0027).reset_index(), on\u003d\u0027ParentId\u0027)\n",
        "\n",
        "    while len(additional_answers) \u003e 0:\n",
        "        print(len(additional_answers))\n",
        "        additional_answers \u003d additional_answers[~additional_answers[\u0027Id\u0027].isin(selected_answers)]\n",
        "        additional_answers \u003d additional_answers[additional_answers[\u0027n_additional\u0027] \u003e 0]\n",
        "        additional_answers \u003d additional_answers.iloc[np.random.permutation(len(additional_answers))].reset_index(drop\u003dTrue)\n",
        "        selected_answers +\u003d additional_answers[\u0027Id\u0027].loc[additional_answers[\u0027ParentId\u0027].drop_duplicates().index].tolist()\n",
        "\n",
        "        additional_answers[\u0027n_additional\u0027] \u003d additional_answers[\u0027n_additional\u0027] - 1\n",
        "    return selected_answers"
      ]
    },
    {
      "cell_type": "code",
      "execution_count": 130,
      "metadata": {
        "pycharm": {}
      },
      "outputs": [
        {
          "name": "stdout",
          "output_type": "stream",
          "text": [
            "9806737\n",
            "6811743\n",
            "1806082\n"
          ]
        }
      ],
      "source": [
        "selected_answers \u003d all_answers[\u0027Id\u0027].isin(select_answers(all_answers))"
      ]
    },
    {
      "cell_type": "code",
      "execution_count": 135,
      "metadata": {
        "scrolled": true,
        "pycharm": {}
      },
      "outputs": [],
      "source": [
        "answer_features \u003d all_answers[selected_answers][[\u0027ParentId\u0027, \u0027username\u0027, \u0027Body\u0027, \u0027Score\u0027,\u0027is_answer_accepted\u0027]]"
      ]
    },
    {
      "cell_type": "code",
      "execution_count": 143,
      "metadata": {
        "pycharm": {}
      },
      "outputs": [
        {
          "data": {
            "application/vnd.jupyter.widget-view+json": {
              "model_id": "94a865869431472c9b08aef01ae197cf",
              "version_major": 2,
              "version_minor": 0
            },
            "text/plain": [
              "HBox(children\u003d(IntProgress(value\u003d0, max\u003d7799945), HTML(value\u003d\u0027\u0027)))"
            ]
          },
          "metadata": {},
          "output_type": "display_data"
        },
        {
          "name": "stdout",
          "output_type": "stream",
          "text": [
            "\n"
          ]
        }
      ],
      "source": [
        "answer_features[\u0027Body\u0027] \u003d answer_features[\u0027Body\u0027].astype(str).progress_apply(lambda s: html_pattern.sub(\u0027\u0027, s))"
      ]
    },
    {
      "cell_type": "code",
      "execution_count": 145,
      "metadata": {
        "pycharm": {}
      },
      "outputs": [
        {
          "name": "stdout",
          "output_type": "stream",
          "text": [
            "Index([\u0027ParentId\u0027, \u0027username\u0027, \u0027Body\u0027, \u0027Score\u0027, \u0027is_answer_accepted\u0027], dtype\u003d\u0027object\u0027)\n"
          ]
        }
      ],
      "source": [
        "print(answer_features.columns)"
      ]
    },
    {
      "cell_type": "code",
      "execution_count": 146,
      "metadata": {
        "pycharm": {}
      },
      "outputs": [],
      "source": [
        "answer_features.columns \u003d [\u0027ParentId\u0027, \u0027answer_username\u0027, \u0027answer\u0027, \u0027answer_score\u0027, \u0027is_answer_accepted\u0027]"
      ]
    },
    {
      "cell_type": "code",
      "execution_count": 148,
      "metadata": {
        "pycharm": {}
      },
      "outputs": [],
      "source": [
        "qa_features \u003d question_features.merge(answer_features, left_on\u003d\u0027id\u0027, right_on\u003d\u0027ParentId\u0027, how\u003d\u0027inner\u0027)"
      ]
    },
    {
      "cell_type": "code",
      "execution_count": 151,
      "metadata": {
        "pycharm": {}
      },
      "outputs": [],
      "source": [
        "qa_features.drop(columns\u003d[\u0027ParentId\u0027], inplace\u003dTrue)"
      ]
    },
    {
      "cell_type": "code",
      "execution_count": 168,
      "metadata": {
        "scrolled": true,
        "pycharm": {}
      },
      "outputs": [],
      "source": [
        "targets \u003d [ \u0027question_score\u0027, \u0027question_views\u0027, \u0027question_favs\u0027, \n",
        "           \u0027answers_count\u0027, \u0027answers_max_score\u0027,  \u0027answers_mean_score\u0027, \u0027answer_score\u0027, \u0027is_answer_accepted\u0027]\n",
        "\n",
        "qa_features[targets] \u003d qa_features[targets].fillna(0)\n",
        "qa_features[targets] \u003d np.sign(qa_features[targets]) * np.log1p(np.abs(qa_features[targets]))\n",
        "qa_features[targets] \u003d qa_features[targets] / qa_features[targets].std()"
      ]
    },
    {
      "cell_type": "code",
      "execution_count": 172,
      "metadata": {
        "pycharm": {}
      },
      "outputs": [],
      "source": [
        "# qa_features \u003d qa_features[[\u0027id\u0027, \u0027host\u0027, \u0027question_username\u0027,\u0027answer_username\u0027, \u0027title\u0027,\u0027body\u0027, \u0027answer\u0027,\n",
        "#                  \u0027question_score\u0027, \u0027question_views\u0027,\u0027question_favs\u0027, \u0027answers_count\u0027, \u0027answers_max_score\u0027,\n",
        "#                  \u0027answers_mean_score\u0027, \u0027answer_score\u0027, \u0027is_answer_accepted\u0027]]"
      ]
    },
    {
      "cell_type": "code",
      "execution_count": 174,
      "metadata": {
        "scrolled": true,
        "pycharm": {}
      },
      "outputs": [],
      "source": "qa_features[[\u0027id\u0027, \u0027host\u0027, \u0027question_username\u0027, \u0027answer_username\u0027, \u0027title\u0027, \u0027body\u0027, \u0027answer\u0027]]\\\n    .to_csv(\u0027/storage/monty/quest_challenge/qa_stackexchange_cleaned.tsv\u0027, index\u003dFalse)"
    },
    {
      "cell_type": "code",
      "execution_count": 176,
      "metadata": {
        "pycharm": {}
      },
      "outputs": [],
      "source": "qa_features[targets].to_hdf(\u0027/storage/monty/quest_challenge/qa_stackexchange_cleaned_targets.h5\u0027, \u0027targets\u0027)"
    },
    {
      "cell_type": "code",
      "execution_count": null,
      "metadata": {
        "pycharm": {}
      },
      "outputs": [],
      "source": []
    }
  ],
  "metadata": {
    "kernelspec": {
      "display_name": "Python 3",
      "language": "python",
      "name": "python3"
    },
    "language_info": {
      "codemirror_mode": {
        "name": "ipython",
        "version": 3
      },
      "file_extension": ".py",
      "mimetype": "text/x-python",
      "name": "python",
      "nbconvert_exporter": "python",
      "pygments_lexer": "ipython3",
      "version": "3.7.3"
    }
  },
  "nbformat": 4,
  "nbformat_minor": 2
}